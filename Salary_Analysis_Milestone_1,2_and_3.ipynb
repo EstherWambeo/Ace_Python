{
  "cells": [
    {
      "cell_type": "markdown",
      "id": "357d3d62",
      "metadata": {
        "id": "357d3d62"
      },
      "source": [
        "# Milestone one"
      ]
    },
    {
      "cell_type": "markdown",
      "id": "a37a3d6d",
      "metadata": {
        "id": "a37a3d6d"
      },
      "source": [
        "The purpose of this study is to construct a predictive model that can accurately categorise an employee's salary category as either high, medium or low so that appropriate action may be taken. The model will make use of a variety of independent factors, such as the individual's level of happiness, the average number of hours worked each month, the amount of time spent working for the company, their current status, whether or not they have been promoted in the past five years, and the sales department. By tackling this issue, our goal is to give HR departments with insights and a tool that will allow them to better understand the elements that influence salary categorization and perhaps make decisions that are data-driven regarding the compensation of their employees.\n",
        "\n",
        "The data set i have chosen for this project is the \"HR_comma_sep\", (https://www.kaggle.com/datasets/liujiaqi/hr-comma-sepcsv) from Kaggle. This data set contains 14998 records of employees and 10 variables/features.\n",
        "\n",
        "For my graphical analysis, I will plot barplot of sales to demonstrate the department of each employee, a barplot of salary to display the salary category of each employee, a histogram of satisfaction level of the employees and a box plot demonstrating last evaluation.\n",
        "\n",
        "For model building, I will use 4 types of models to predict salary ie logistics regression, random forests, decision trees and naive bayes and use scoring metrics that includes accuracy, precision, F1 score and recall score to determine the best model for predicting employees salary."
      ]
    },
    {
      "cell_type": "code",
      "execution_count": null,
      "id": "551f80b4",
      "metadata": {
        "id": "551f80b4",
        "outputId": "dd4596bf-e8c1-4552-f4a1-b0b1414ab14e"
      },
      "outputs": [
        {
          "name": "stderr",
          "output_type": "stream",
          "text": [
            "Matplotlib is building the font cache; this may take a moment.\n"
          ]
        }
      ],
      "source": [
        "import pandas as pd\n",
        "import numpy as np\n",
        "import seaborn as sns\n",
        "import matplotlib.pyplot as plt"
      ]
    },
    {
      "cell_type": "code",
      "execution_count": null,
      "id": "6432ee36",
      "metadata": {
        "id": "6432ee36",
        "outputId": "a7f116b8-6171-4ca6-9af4-d28dabfa5a41"
      },
      "outputs": [
        {
          "data": {
            "text/html": [
              "<div>\n",
              "<style scoped>\n",
              "    .dataframe tbody tr th:only-of-type {\n",
              "        vertical-align: middle;\n",
              "    }\n",
              "\n",
              "    .dataframe tbody tr th {\n",
              "        vertical-align: top;\n",
              "    }\n",
              "\n",
              "    .dataframe thead th {\n",
              "        text-align: right;\n",
              "    }\n",
              "</style>\n",
              "<table border=\"1\" class=\"dataframe\">\n",
              "  <thead>\n",
              "    <tr style=\"text-align: right;\">\n",
              "      <th></th>\n",
              "      <th>satisfaction_level</th>\n",
              "      <th>last_evaluation</th>\n",
              "      <th>number_project</th>\n",
              "      <th>average_montly_hours</th>\n",
              "      <th>time_spend_company</th>\n",
              "      <th>Work_accident</th>\n",
              "      <th>left</th>\n",
              "      <th>promotion_last_5years</th>\n",
              "      <th>sales</th>\n",
              "      <th>salary</th>\n",
              "    </tr>\n",
              "  </thead>\n",
              "  <tbody>\n",
              "    <tr>\n",
              "      <th>0</th>\n",
              "      <td>0.38</td>\n",
              "      <td>0.53</td>\n",
              "      <td>2</td>\n",
              "      <td>157</td>\n",
              "      <td>3</td>\n",
              "      <td>0</td>\n",
              "      <td>1</td>\n",
              "      <td>0</td>\n",
              "      <td>sales</td>\n",
              "      <td>low</td>\n",
              "    </tr>\n",
              "    <tr>\n",
              "      <th>1</th>\n",
              "      <td>0.80</td>\n",
              "      <td>0.86</td>\n",
              "      <td>5</td>\n",
              "      <td>262</td>\n",
              "      <td>6</td>\n",
              "      <td>0</td>\n",
              "      <td>1</td>\n",
              "      <td>0</td>\n",
              "      <td>sales</td>\n",
              "      <td>medium</td>\n",
              "    </tr>\n",
              "    <tr>\n",
              "      <th>2</th>\n",
              "      <td>0.11</td>\n",
              "      <td>0.88</td>\n",
              "      <td>7</td>\n",
              "      <td>272</td>\n",
              "      <td>4</td>\n",
              "      <td>0</td>\n",
              "      <td>1</td>\n",
              "      <td>0</td>\n",
              "      <td>sales</td>\n",
              "      <td>medium</td>\n",
              "    </tr>\n",
              "    <tr>\n",
              "      <th>3</th>\n",
              "      <td>0.72</td>\n",
              "      <td>0.87</td>\n",
              "      <td>5</td>\n",
              "      <td>223</td>\n",
              "      <td>5</td>\n",
              "      <td>0</td>\n",
              "      <td>1</td>\n",
              "      <td>0</td>\n",
              "      <td>sales</td>\n",
              "      <td>low</td>\n",
              "    </tr>\n",
              "    <tr>\n",
              "      <th>4</th>\n",
              "      <td>0.37</td>\n",
              "      <td>0.52</td>\n",
              "      <td>2</td>\n",
              "      <td>159</td>\n",
              "      <td>3</td>\n",
              "      <td>0</td>\n",
              "      <td>1</td>\n",
              "      <td>0</td>\n",
              "      <td>sales</td>\n",
              "      <td>low</td>\n",
              "    </tr>\n",
              "  </tbody>\n",
              "</table>\n",
              "</div>"
            ],
            "text/plain": [
              "   satisfaction_level  last_evaluation  number_project  average_montly_hours  \\\n",
              "0                0.38             0.53               2                   157   \n",
              "1                0.80             0.86               5                   262   \n",
              "2                0.11             0.88               7                   272   \n",
              "3                0.72             0.87               5                   223   \n",
              "4                0.37             0.52               2                   159   \n",
              "\n",
              "   time_spend_company  Work_accident  left  promotion_last_5years  sales  \\\n",
              "0                   3              0     1                      0  sales   \n",
              "1                   6              0     1                      0  sales   \n",
              "2                   4              0     1                      0  sales   \n",
              "3                   5              0     1                      0  sales   \n",
              "4                   3              0     1                      0  sales   \n",
              "\n",
              "   salary  \n",
              "0     low  \n",
              "1  medium  \n",
              "2  medium  \n",
              "3     low  \n",
              "4     low  "
            ]
          },
          "execution_count": 3,
          "metadata": {},
          "output_type": "execute_result"
        }
      ],
      "source": [
        "df=pd.read_csv(\"C:/Users/HP PC/Downloads/HR_comma_sep.csv\")\n",
        "df.head()"
      ]
    },
    {
      "cell_type": "code",
      "execution_count": null,
      "id": "306eba6b",
      "metadata": {
        "id": "306eba6b",
        "outputId": "697fb210-90b9-4c41-c3ff-bc42525fb8d6"
      },
      "outputs": [
        {
          "name": "stdout",
          "output_type": "stream",
          "text": [
            "<class 'pandas.core.frame.DataFrame'>\n",
            "RangeIndex: 14999 entries, 0 to 14998\n",
            "Data columns (total 10 columns):\n",
            " #   Column                 Non-Null Count  Dtype  \n",
            "---  ------                 --------------  -----  \n",
            " 0   satisfaction_level     14999 non-null  float64\n",
            " 1   last_evaluation        14999 non-null  float64\n",
            " 2   number_project         14999 non-null  int64  \n",
            " 3   average_montly_hours   14999 non-null  int64  \n",
            " 4   time_spend_company     14999 non-null  int64  \n",
            " 5   Work_accident          14999 non-null  int64  \n",
            " 6   left                   14999 non-null  int64  \n",
            " 7   promotion_last_5years  14999 non-null  int64  \n",
            " 8   sales                  14999 non-null  object \n",
            " 9   salary                 14999 non-null  object \n",
            "dtypes: float64(2), int64(6), object(2)\n",
            "memory usage: 1.1+ MB\n"
          ]
        }
      ],
      "source": [
        "df.info()"
      ]
    },
    {
      "cell_type": "code",
      "execution_count": null,
      "id": "bf2c26d9",
      "metadata": {
        "id": "bf2c26d9",
        "outputId": "c58caeb3-2f0a-4ff7-d352-2f8ee469494c"
      },
      "outputs": [
        {
          "data": {
            "image/png": "[encoded data removed]",
            "text/plain": [
              "<Figure size 576x432 with 1 Axes>"
            ]
          },
          "metadata": {
            "needs_background": "light"
          },
          "output_type": "display_data"
        }
      ],
      "source": [
        "# Bar plot for \"sales\" variable\n",
        "plt.figure(figsize=(8, 6))\n",
        "sns.countplot(data=df, x=\"sales\")\n",
        "plt.xlabel(\"Department\")\n",
        "plt.ylabel(\"Count\")\n",
        "plt.title(\"Distribution of Employees Across Departments\")\n",
        "plt.xticks(rotation=45)\n",
        "plt.show()\n"
      ]
    },
    {
      "cell_type": "markdown",
      "id": "461ae171",
      "metadata": {
        "id": "461ae171"
      },
      "source": [
        "The distribution shows that the sales department has the highest distribution of employees while management department has the least number of employees."
      ]
    },
    {
      "cell_type": "code",
      "execution_count": null,
      "id": "7da1bcc5",
      "metadata": {
        "id": "7da1bcc5",
        "outputId": "77adff8d-3c5b-4801-fe9f-88239a1854d9"
      },
      "outputs": [
        {
          "data": {
            "image/png": "[encoded data removed]",
            "text/plain": [
              "<Figure size 576x432 with 1 Axes>"
            ]
          },
          "metadata": {
            "needs_background": "light"
          },
          "output_type": "display_data"
        }
      ],
      "source": [
        "# Bar plot for \"salary\" variable\n",
        "plt.figure(figsize=(8, 6))\n",
        "sns.countplot(data=df, x=\"salary\")\n",
        "plt.xlabel(\"Salary Category\")\n",
        "plt.ylabel(\"Count\")\n",
        "plt.title(\"Distribution of Employees by Salary Category\")\n",
        "plt.show()"
      ]
    },
    {
      "cell_type": "markdown",
      "id": "6751bcf8",
      "metadata": {
        "id": "6751bcf8"
      },
      "source": [
        "The distribution shows that the number of employees who receive low salary is higher followed by medium category while high salaried employees are the least."
      ]
    },
    {
      "cell_type": "code",
      "execution_count": null,
      "id": "f560679c",
      "metadata": {
        "id": "f560679c",
        "outputId": "792c2ee2-fd91-4378-fa2b-23c5fb5871b8"
      },
      "outputs": [
        {
          "data": {
            "image/png": "[encoded data removed]",
            "text/plain": [
              "<Figure size 576x432 with 1 Axes>"
            ]
          },
          "metadata": {
            "needs_background": "light"
          },
          "output_type": "display_data"
        }
      ],
      "source": [
        "# Histogram for \"satisfaction_level\"\n",
        "plt.figure(figsize=(8, 6))\n",
        "plt.hist(df[\"satisfaction_level\"], bins=20)\n",
        "plt.xlabel(\"Satisfaction Level\")\n",
        "plt.ylabel(\"Count\")\n",
        "plt.title(\"Distribution of Employee Satisfaction Level\")\n",
        "plt.show()"
      ]
    },
    {
      "cell_type": "markdown",
      "id": "fceb9319",
      "metadata": {
        "id": "fceb9319"
      },
      "source": [
        "The distribution of satisfaction level is not normally distributed ie its not symmetric."
      ]
    },
    {
      "cell_type": "code",
      "execution_count": null,
      "id": "a74db60c",
      "metadata": {
        "id": "a74db60c",
        "outputId": "f8b5f4a5-16eb-4f96-d2a7-17303f4e3a92"
      },
      "outputs": [
        {
          "data": {
            "image/png": "[encoded data removed]",
            "text/plain": [
              "<Figure size 576x432 with 1 Axes>"
            ]
          },
          "metadata": {
            "needs_background": "light"
          },
          "output_type": "display_data"
        }
      ],
      "source": [
        "# Box plot for \"last_evaluation\"\n",
        "plt.figure(figsize=(8, 6))\n",
        "sns.boxplot(data=df, y=\"last_evaluation\")\n",
        "plt.ylabel(\"Last Evaluation\")\n",
        "plt.title(\"Distribution of Last Evaluation\")\n",
        "plt.show()"
      ]
    },
    {
      "cell_type": "markdown",
      "id": "f896e7ec",
      "metadata": {
        "id": "f896e7ec"
      },
      "source": [
        "The distribution indicates that there are no present outliers in last evaluation variable. The mean of last evaluation is roughly 0.75."
      ]
    },
    {
      "cell_type": "markdown",
      "id": "b440127f",
      "metadata": {
        "id": "b440127f"
      },
      "source": [
        "# Milestone two"
      ]
    },
    {
      "cell_type": "code",
      "execution_count": null,
      "id": "60e5cfcb",
      "metadata": {
        "id": "60e5cfcb"
      },
      "outputs": [],
      "source": [
        "from sklearn.preprocessing import MinMaxScaler, OneHotEncoder"
      ]
    },
    {
      "cell_type": "code",
      "execution_count": null,
      "id": "755d64ac",
      "metadata": {
        "id": "755d64ac",
        "outputId": "b31c3567-a4e0-44e1-a098-23d57528b7f8"
      },
      "outputs": [
        {
          "data": {
            "text/html": [
              "<div>\n",
              "<style scoped>\n",
              "    .dataframe tbody tr th:only-of-type {\n",
              "        vertical-align: middle;\n",
              "    }\n",
              "\n",
              "    .dataframe tbody tr th {\n",
              "        vertical-align: top;\n",
              "    }\n",
              "\n",
              "    .dataframe thead th {\n",
              "        text-align: right;\n",
              "    }\n",
              "</style>\n",
              "<table border=\"1\" class=\"dataframe\">\n",
              "  <thead>\n",
              "    <tr style=\"text-align: right;\">\n",
              "      <th></th>\n",
              "      <th>satisfaction_level</th>\n",
              "      <th>last_evaluation</th>\n",
              "      <th>number_project</th>\n",
              "      <th>average_montly_hours</th>\n",
              "      <th>time_spend_company</th>\n",
              "      <th>Work_accident</th>\n",
              "      <th>left</th>\n",
              "      <th>promotion_last_5years</th>\n",
              "      <th>sales</th>\n",
              "      <th>salary</th>\n",
              "    </tr>\n",
              "  </thead>\n",
              "  <tbody>\n",
              "    <tr>\n",
              "      <th>0</th>\n",
              "      <td>0.318681</td>\n",
              "      <td>0.265625</td>\n",
              "      <td>2</td>\n",
              "      <td>0.285047</td>\n",
              "      <td>0.125</td>\n",
              "      <td>0</td>\n",
              "      <td>1</td>\n",
              "      <td>0</td>\n",
              "      <td>sales</td>\n",
              "      <td>low</td>\n",
              "    </tr>\n",
              "    <tr>\n",
              "      <th>1</th>\n",
              "      <td>0.780220</td>\n",
              "      <td>0.781250</td>\n",
              "      <td>5</td>\n",
              "      <td>0.775701</td>\n",
              "      <td>0.500</td>\n",
              "      <td>0</td>\n",
              "      <td>1</td>\n",
              "      <td>0</td>\n",
              "      <td>sales</td>\n",
              "      <td>medium</td>\n",
              "    </tr>\n",
              "    <tr>\n",
              "      <th>2</th>\n",
              "      <td>0.021978</td>\n",
              "      <td>0.812500</td>\n",
              "      <td>7</td>\n",
              "      <td>0.822430</td>\n",
              "      <td>0.250</td>\n",
              "      <td>0</td>\n",
              "      <td>1</td>\n",
              "      <td>0</td>\n",
              "      <td>sales</td>\n",
              "      <td>medium</td>\n",
              "    </tr>\n",
              "    <tr>\n",
              "      <th>3</th>\n",
              "      <td>0.692308</td>\n",
              "      <td>0.796875</td>\n",
              "      <td>5</td>\n",
              "      <td>0.593458</td>\n",
              "      <td>0.375</td>\n",
              "      <td>0</td>\n",
              "      <td>1</td>\n",
              "      <td>0</td>\n",
              "      <td>sales</td>\n",
              "      <td>low</td>\n",
              "    </tr>\n",
              "    <tr>\n",
              "      <th>4</th>\n",
              "      <td>0.307692</td>\n",
              "      <td>0.250000</td>\n",
              "      <td>2</td>\n",
              "      <td>0.294393</td>\n",
              "      <td>0.125</td>\n",
              "      <td>0</td>\n",
              "      <td>1</td>\n",
              "      <td>0</td>\n",
              "      <td>sales</td>\n",
              "      <td>low</td>\n",
              "    </tr>\n",
              "  </tbody>\n",
              "</table>\n",
              "</div>"
            ],
            "text/plain": [
              "   satisfaction_level  last_evaluation  number_project  average_montly_hours  \\\n",
              "0            0.318681         0.265625               2              0.285047   \n",
              "1            0.780220         0.781250               5              0.775701   \n",
              "2            0.021978         0.812500               7              0.822430   \n",
              "3            0.692308         0.796875               5              0.593458   \n",
              "4            0.307692         0.250000               2              0.294393   \n",
              "\n",
              "   time_spend_company  Work_accident  left  promotion_last_5years  sales  \\\n",
              "0               0.125              0     1                      0  sales   \n",
              "1               0.500              0     1                      0  sales   \n",
              "2               0.250              0     1                      0  sales   \n",
              "3               0.375              0     1                      0  sales   \n",
              "4               0.125              0     1                      0  sales   \n",
              "\n",
              "   salary  \n",
              "0     low  \n",
              "1  medium  \n",
              "2  medium  \n",
              "3     low  \n",
              "4     low  "
            ]
          },
          "execution_count": 12,
          "metadata": {},
          "output_type": "execute_result"
        }
      ],
      "source": [
        "#step 1\n",
        "# Data transformation: Feature Scaling\n",
        "scaler = MinMaxScaler()\n",
        "numerical_cols = [\"satisfaction_level\", \"last_evaluation\", \"average_montly_hours\", \"time_spend_company\"]\n",
        "df[numerical_cols] = scaler.fit_transform(df[numerical_cols])\n",
        "df.head()"
      ]
    },
    {
      "cell_type": "code",
      "execution_count": null,
      "id": "a4c50c21",
      "metadata": {
        "id": "a4c50c21",
        "outputId": "8d39653c-c194-4836-84ec-5efc6b796650"
      },
      "outputs": [
        {
          "data": {
            "text/html": [
              "<div>\n",
              "<style scoped>\n",
              "    .dataframe tbody tr th:only-of-type {\n",
              "        vertical-align: middle;\n",
              "    }\n",
              "\n",
              "    .dataframe tbody tr th {\n",
              "        vertical-align: top;\n",
              "    }\n",
              "\n",
              "    .dataframe thead th {\n",
              "        text-align: right;\n",
              "    }\n",
              "</style>\n",
              "<table border=\"1\" class=\"dataframe\">\n",
              "  <thead>\n",
              "    <tr style=\"text-align: right;\">\n",
              "      <th></th>\n",
              "      <th>satisfaction_level</th>\n",
              "      <th>last_evaluation</th>\n",
              "      <th>number_project</th>\n",
              "      <th>average_montly_hours</th>\n",
              "      <th>time_spend_company</th>\n",
              "      <th>Work_accident</th>\n",
              "      <th>left</th>\n",
              "      <th>promotion_last_5years</th>\n",
              "      <th>sales</th>\n",
              "      <th>salary</th>\n",
              "    </tr>\n",
              "  </thead>\n",
              "  <tbody>\n",
              "    <tr>\n",
              "      <th>0</th>\n",
              "      <td>0.318681</td>\n",
              "      <td>0.265625</td>\n",
              "      <td>2</td>\n",
              "      <td>0.285047</td>\n",
              "      <td>0.125</td>\n",
              "      <td>0</td>\n",
              "      <td>1</td>\n",
              "      <td>0</td>\n",
              "      <td>sales</td>\n",
              "      <td>low</td>\n",
              "    </tr>\n",
              "    <tr>\n",
              "      <th>1</th>\n",
              "      <td>0.780220</td>\n",
              "      <td>0.781250</td>\n",
              "      <td>5</td>\n",
              "      <td>0.775701</td>\n",
              "      <td>0.500</td>\n",
              "      <td>0</td>\n",
              "      <td>1</td>\n",
              "      <td>0</td>\n",
              "      <td>sales</td>\n",
              "      <td>medium</td>\n",
              "    </tr>\n",
              "    <tr>\n",
              "      <th>2</th>\n",
              "      <td>0.021978</td>\n",
              "      <td>0.812500</td>\n",
              "      <td>7</td>\n",
              "      <td>0.822430</td>\n",
              "      <td>0.250</td>\n",
              "      <td>0</td>\n",
              "      <td>1</td>\n",
              "      <td>0</td>\n",
              "      <td>sales</td>\n",
              "      <td>medium</td>\n",
              "    </tr>\n",
              "    <tr>\n",
              "      <th>3</th>\n",
              "      <td>0.692308</td>\n",
              "      <td>0.796875</td>\n",
              "      <td>5</td>\n",
              "      <td>0.593458</td>\n",
              "      <td>0.375</td>\n",
              "      <td>0</td>\n",
              "      <td>1</td>\n",
              "      <td>0</td>\n",
              "      <td>sales</td>\n",
              "      <td>low</td>\n",
              "    </tr>\n",
              "    <tr>\n",
              "      <th>4</th>\n",
              "      <td>0.307692</td>\n",
              "      <td>0.250000</td>\n",
              "      <td>2</td>\n",
              "      <td>0.294393</td>\n",
              "      <td>0.125</td>\n",
              "      <td>0</td>\n",
              "      <td>1</td>\n",
              "      <td>0</td>\n",
              "      <td>sales</td>\n",
              "      <td>low</td>\n",
              "    </tr>\n",
              "  </tbody>\n",
              "</table>\n",
              "</div>"
            ],
            "text/plain": [
              "   satisfaction_level  last_evaluation  number_project  average_montly_hours  \\\n",
              "0            0.318681         0.265625               2              0.285047   \n",
              "1            0.780220         0.781250               5              0.775701   \n",
              "2            0.021978         0.812500               7              0.822430   \n",
              "3            0.692308         0.796875               5              0.593458   \n",
              "4            0.307692         0.250000               2              0.294393   \n",
              "\n",
              "   time_spend_company  Work_accident  left  promotion_last_5years  sales  \\\n",
              "0               0.125              0     1                      0  sales   \n",
              "1               0.500              0     1                      0  sales   \n",
              "2               0.250              0     1                      0  sales   \n",
              "3               0.375              0     1                      0  sales   \n",
              "4               0.125              0     1                      0  sales   \n",
              "\n",
              "   salary  \n",
              "0     low  \n",
              "1  medium  \n",
              "2  medium  \n",
              "3     low  \n",
              "4     low  "
            ]
          },
          "execution_count": 13,
          "metadata": {},
          "output_type": "execute_result"
        }
      ],
      "source": [
        "#step 2\n",
        "# Data transformation : One-Hot Encoding\n",
        "categorical_cols = [\"sales\", \"salary\"]\n",
        "df_encoded = pd.get_dummies(df, columns=categorical_cols)\n",
        "df.head()"
      ]
    },
    {
      "cell_type": "code",
      "execution_count": null,
      "id": "d1e13604",
      "metadata": {
        "id": "d1e13604",
        "outputId": "fd256fcd-632e-40ad-d9eb-9fa588b9cedf"
      },
      "outputs": [
        {
          "data": {
            "text/html": [
              "<div>\n",
              "<style scoped>\n",
              "    .dataframe tbody tr th:only-of-type {\n",
              "        vertical-align: middle;\n",
              "    }\n",
              "\n",
              "    .dataframe tbody tr th {\n",
              "        vertical-align: top;\n",
              "    }\n",
              "\n",
              "    .dataframe thead th {\n",
              "        text-align: right;\n",
              "    }\n",
              "</style>\n",
              "<table border=\"1\" class=\"dataframe\">\n",
              "  <thead>\n",
              "    <tr style=\"text-align: right;\">\n",
              "      <th></th>\n",
              "      <th>satisfaction_level</th>\n",
              "      <th>last_evaluation</th>\n",
              "      <th>number_project</th>\n",
              "      <th>average_montly_hours</th>\n",
              "      <th>time_spend_company</th>\n",
              "      <th>Work_accident</th>\n",
              "      <th>left</th>\n",
              "      <th>promotion_last_5years</th>\n",
              "      <th>sales</th>\n",
              "      <th>salary</th>\n",
              "      <th>average_hours_category</th>\n",
              "    </tr>\n",
              "  </thead>\n",
              "  <tbody>\n",
              "    <tr>\n",
              "      <th>0</th>\n",
              "      <td>0.318681</td>\n",
              "      <td>0.265625</td>\n",
              "      <td>2</td>\n",
              "      <td>0.285047</td>\n",
              "      <td>0.125</td>\n",
              "      <td>0</td>\n",
              "      <td>1</td>\n",
              "      <td>0</td>\n",
              "      <td>sales</td>\n",
              "      <td>low</td>\n",
              "      <td>Low</td>\n",
              "    </tr>\n",
              "    <tr>\n",
              "      <th>1</th>\n",
              "      <td>0.780220</td>\n",
              "      <td>0.781250</td>\n",
              "      <td>5</td>\n",
              "      <td>0.775701</td>\n",
              "      <td>0.500</td>\n",
              "      <td>0</td>\n",
              "      <td>1</td>\n",
              "      <td>0</td>\n",
              "      <td>sales</td>\n",
              "      <td>medium</td>\n",
              "      <td>Low</td>\n",
              "    </tr>\n",
              "    <tr>\n",
              "      <th>2</th>\n",
              "      <td>0.021978</td>\n",
              "      <td>0.812500</td>\n",
              "      <td>7</td>\n",
              "      <td>0.822430</td>\n",
              "      <td>0.250</td>\n",
              "      <td>0</td>\n",
              "      <td>1</td>\n",
              "      <td>0</td>\n",
              "      <td>sales</td>\n",
              "      <td>medium</td>\n",
              "      <td>Low</td>\n",
              "    </tr>\n",
              "    <tr>\n",
              "      <th>3</th>\n",
              "      <td>0.692308</td>\n",
              "      <td>0.796875</td>\n",
              "      <td>5</td>\n",
              "      <td>0.593458</td>\n",
              "      <td>0.375</td>\n",
              "      <td>0</td>\n",
              "      <td>1</td>\n",
              "      <td>0</td>\n",
              "      <td>sales</td>\n",
              "      <td>low</td>\n",
              "      <td>Low</td>\n",
              "    </tr>\n",
              "    <tr>\n",
              "      <th>4</th>\n",
              "      <td>0.307692</td>\n",
              "      <td>0.250000</td>\n",
              "      <td>2</td>\n",
              "      <td>0.294393</td>\n",
              "      <td>0.125</td>\n",
              "      <td>0</td>\n",
              "      <td>1</td>\n",
              "      <td>0</td>\n",
              "      <td>sales</td>\n",
              "      <td>low</td>\n",
              "      <td>Low</td>\n",
              "    </tr>\n",
              "  </tbody>\n",
              "</table>\n",
              "</div>"
            ],
            "text/plain": [
              "   satisfaction_level  last_evaluation  number_project  average_montly_hours  \\\n",
              "0            0.318681         0.265625               2              0.285047   \n",
              "1            0.780220         0.781250               5              0.775701   \n",
              "2            0.021978         0.812500               7              0.822430   \n",
              "3            0.692308         0.796875               5              0.593458   \n",
              "4            0.307692         0.250000               2              0.294393   \n",
              "\n",
              "   time_spend_company  Work_accident  left  promotion_last_5years  sales  \\\n",
              "0               0.125              0     1                      0  sales   \n",
              "1               0.500              0     1                      0  sales   \n",
              "2               0.250              0     1                      0  sales   \n",
              "3               0.375              0     1                      0  sales   \n",
              "4               0.125              0     1                      0  sales   \n",
              "\n",
              "   salary average_hours_category  \n",
              "0     low                    Low  \n",
              "1  medium                    Low  \n",
              "2  medium                    Low  \n",
              "3     low                    Low  \n",
              "4     low                    Low  "
            ]
          },
          "execution_count": 14,
          "metadata": {},
          "output_type": "execute_result"
        }
      ],
      "source": [
        "#step 3\n",
        "# Data transformation: Binning\n",
        "df[\"average_hours_category\"] = pd.cut(df[\"average_montly_hours\"], bins=[0, 150, 250, np.inf], labels=[\"Low\", \"Medium\", \"High\"])\n",
        "df.head()"
      ]
    },
    {
      "cell_type": "code",
      "execution_count": null,
      "id": "1bf8c8d0",
      "metadata": {
        "id": "1bf8c8d0",
        "outputId": "e1131103-a8c4-4305-a0ae-64c35f96b2df"
      },
      "outputs": [
        {
          "data": {
            "text/html": [
              "<div>\n",
              "<style scoped>\n",
              "    .dataframe tbody tr th:only-of-type {\n",
              "        vertical-align: middle;\n",
              "    }\n",
              "\n",
              "    .dataframe tbody tr th {\n",
              "        vertical-align: top;\n",
              "    }\n",
              "\n",
              "    .dataframe thead th {\n",
              "        text-align: right;\n",
              "    }\n",
              "</style>\n",
              "<table border=\"1\" class=\"dataframe\">\n",
              "  <thead>\n",
              "    <tr style=\"text-align: right;\">\n",
              "      <th></th>\n",
              "      <th>satisfaction_level</th>\n",
              "      <th>last_evaluation</th>\n",
              "      <th>number_project</th>\n",
              "      <th>average_montly_hours</th>\n",
              "      <th>time_spend_company</th>\n",
              "      <th>Work_accident</th>\n",
              "      <th>left</th>\n",
              "      <th>promotion_last_5years</th>\n",
              "      <th>sales</th>\n",
              "      <th>salary</th>\n",
              "      <th>average_hours_category</th>\n",
              "      <th>satisfaction_level_log</th>\n",
              "    </tr>\n",
              "  </thead>\n",
              "  <tbody>\n",
              "    <tr>\n",
              "      <th>0</th>\n",
              "      <td>0.318681</td>\n",
              "      <td>0.265625</td>\n",
              "      <td>2</td>\n",
              "      <td>0.285047</td>\n",
              "      <td>0.125</td>\n",
              "      <td>0</td>\n",
              "      <td>1</td>\n",
              "      <td>0</td>\n",
              "      <td>sales</td>\n",
              "      <td>low</td>\n",
              "      <td>Low</td>\n",
              "      <td>0.276632</td>\n",
              "    </tr>\n",
              "    <tr>\n",
              "      <th>1</th>\n",
              "      <td>0.780220</td>\n",
              "      <td>0.781250</td>\n",
              "      <td>5</td>\n",
              "      <td>0.775701</td>\n",
              "      <td>0.500</td>\n",
              "      <td>0</td>\n",
              "      <td>1</td>\n",
              "      <td>0</td>\n",
              "      <td>sales</td>\n",
              "      <td>medium</td>\n",
              "      <td>Low</td>\n",
              "      <td>0.576737</td>\n",
              "    </tr>\n",
              "    <tr>\n",
              "      <th>2</th>\n",
              "      <td>0.021978</td>\n",
              "      <td>0.812500</td>\n",
              "      <td>7</td>\n",
              "      <td>0.822430</td>\n",
              "      <td>0.250</td>\n",
              "      <td>0</td>\n",
              "      <td>1</td>\n",
              "      <td>0</td>\n",
              "      <td>sales</td>\n",
              "      <td>medium</td>\n",
              "      <td>Low</td>\n",
              "      <td>0.021740</td>\n",
              "    </tr>\n",
              "    <tr>\n",
              "      <th>3</th>\n",
              "      <td>0.692308</td>\n",
              "      <td>0.796875</td>\n",
              "      <td>5</td>\n",
              "      <td>0.593458</td>\n",
              "      <td>0.375</td>\n",
              "      <td>0</td>\n",
              "      <td>1</td>\n",
              "      <td>0</td>\n",
              "      <td>sales</td>\n",
              "      <td>low</td>\n",
              "      <td>Low</td>\n",
              "      <td>0.526093</td>\n",
              "    </tr>\n",
              "    <tr>\n",
              "      <th>4</th>\n",
              "      <td>0.307692</td>\n",
              "      <td>0.250000</td>\n",
              "      <td>2</td>\n",
              "      <td>0.294393</td>\n",
              "      <td>0.125</td>\n",
              "      <td>0</td>\n",
              "      <td>1</td>\n",
              "      <td>0</td>\n",
              "      <td>sales</td>\n",
              "      <td>low</td>\n",
              "      <td>Low</td>\n",
              "      <td>0.268264</td>\n",
              "    </tr>\n",
              "  </tbody>\n",
              "</table>\n",
              "</div>"
            ],
            "text/plain": [
              "   satisfaction_level  last_evaluation  number_project  average_montly_hours  \\\n",
              "0            0.318681         0.265625               2              0.285047   \n",
              "1            0.780220         0.781250               5              0.775701   \n",
              "2            0.021978         0.812500               7              0.822430   \n",
              "3            0.692308         0.796875               5              0.593458   \n",
              "4            0.307692         0.250000               2              0.294393   \n",
              "\n",
              "   time_spend_company  Work_accident  left  promotion_last_5years  sales  \\\n",
              "0               0.125              0     1                      0  sales   \n",
              "1               0.500              0     1                      0  sales   \n",
              "2               0.250              0     1                      0  sales   \n",
              "3               0.375              0     1                      0  sales   \n",
              "4               0.125              0     1                      0  sales   \n",
              "\n",
              "   salary average_hours_category  satisfaction_level_log  \n",
              "0     low                    Low                0.276632  \n",
              "1  medium                    Low                0.576737  \n",
              "2  medium                    Low                0.021740  \n",
              "3     low                    Low                0.526093  \n",
              "4     low                    Low                0.268264  "
            ]
          },
          "execution_count": 15,
          "metadata": {},
          "output_type": "execute_result"
        }
      ],
      "source": [
        "#step 4\n",
        "# Data transformation: Log Transformation\n",
        "df[\"satisfaction_level_log\"] = np.log1p(df[\"satisfaction_level\"])\n",
        "df.head()"
      ]
    },
    {
      "cell_type": "code",
      "execution_count": null,
      "id": "0d6e8cb2",
      "metadata": {
        "id": "0d6e8cb2",
        "outputId": "f3245106-ea40-4a47-b941-04aa1816523c"
      },
      "outputs": [
        {
          "data": {
            "text/html": [
              "<div>\n",
              "<style scoped>\n",
              "    .dataframe tbody tr th:only-of-type {\n",
              "        vertical-align: middle;\n",
              "    }\n",
              "\n",
              "    .dataframe tbody tr th {\n",
              "        vertical-align: top;\n",
              "    }\n",
              "\n",
              "    .dataframe thead th {\n",
              "        text-align: right;\n",
              "    }\n",
              "</style>\n",
              "<table border=\"1\" class=\"dataframe\">\n",
              "  <thead>\n",
              "    <tr style=\"text-align: right;\">\n",
              "      <th></th>\n",
              "      <th>satisfaction_level</th>\n",
              "      <th>last_evaluation</th>\n",
              "      <th>number_project</th>\n",
              "      <th>average_montly_hours</th>\n",
              "      <th>time_spend_company</th>\n",
              "      <th>Work_accident</th>\n",
              "      <th>left</th>\n",
              "      <th>promotion_last_5years</th>\n",
              "      <th>sales</th>\n",
              "      <th>salary</th>\n",
              "      <th>average_hours_category</th>\n",
              "      <th>satisfaction_level_log</th>\n",
              "      <th>interaction_feature</th>\n",
              "    </tr>\n",
              "  </thead>\n",
              "  <tbody>\n",
              "    <tr>\n",
              "      <th>0</th>\n",
              "      <td>0.318681</td>\n",
              "      <td>0.265625</td>\n",
              "      <td>2</td>\n",
              "      <td>0.285047</td>\n",
              "      <td>0.125</td>\n",
              "      <td>0</td>\n",
              "      <td>1</td>\n",
              "      <td>0</td>\n",
              "      <td>sales</td>\n",
              "      <td>low</td>\n",
              "      <td>Low</td>\n",
              "      <td>0.276632</td>\n",
              "      <td>0.035631</td>\n",
              "    </tr>\n",
              "    <tr>\n",
              "      <th>1</th>\n",
              "      <td>0.780220</td>\n",
              "      <td>0.781250</td>\n",
              "      <td>5</td>\n",
              "      <td>0.775701</td>\n",
              "      <td>0.500</td>\n",
              "      <td>0</td>\n",
              "      <td>1</td>\n",
              "      <td>0</td>\n",
              "      <td>sales</td>\n",
              "      <td>medium</td>\n",
              "      <td>Low</td>\n",
              "      <td>0.576737</td>\n",
              "      <td>0.387850</td>\n",
              "    </tr>\n",
              "    <tr>\n",
              "      <th>2</th>\n",
              "      <td>0.021978</td>\n",
              "      <td>0.812500</td>\n",
              "      <td>7</td>\n",
              "      <td>0.822430</td>\n",
              "      <td>0.250</td>\n",
              "      <td>0</td>\n",
              "      <td>1</td>\n",
              "      <td>0</td>\n",
              "      <td>sales</td>\n",
              "      <td>medium</td>\n",
              "      <td>Low</td>\n",
              "      <td>0.021740</td>\n",
              "      <td>0.205607</td>\n",
              "    </tr>\n",
              "    <tr>\n",
              "      <th>3</th>\n",
              "      <td>0.692308</td>\n",
              "      <td>0.796875</td>\n",
              "      <td>5</td>\n",
              "      <td>0.593458</td>\n",
              "      <td>0.375</td>\n",
              "      <td>0</td>\n",
              "      <td>1</td>\n",
              "      <td>0</td>\n",
              "      <td>sales</td>\n",
              "      <td>low</td>\n",
              "      <td>Low</td>\n",
              "      <td>0.526093</td>\n",
              "      <td>0.222547</td>\n",
              "    </tr>\n",
              "    <tr>\n",
              "      <th>4</th>\n",
              "      <td>0.307692</td>\n",
              "      <td>0.250000</td>\n",
              "      <td>2</td>\n",
              "      <td>0.294393</td>\n",
              "      <td>0.125</td>\n",
              "      <td>0</td>\n",
              "      <td>1</td>\n",
              "      <td>0</td>\n",
              "      <td>sales</td>\n",
              "      <td>low</td>\n",
              "      <td>Low</td>\n",
              "      <td>0.268264</td>\n",
              "      <td>0.036799</td>\n",
              "    </tr>\n",
              "  </tbody>\n",
              "</table>\n",
              "</div>"
            ],
            "text/plain": [
              "   satisfaction_level  last_evaluation  number_project  average_montly_hours  \\\n",
              "0            0.318681         0.265625               2              0.285047   \n",
              "1            0.780220         0.781250               5              0.775701   \n",
              "2            0.021978         0.812500               7              0.822430   \n",
              "3            0.692308         0.796875               5              0.593458   \n",
              "4            0.307692         0.250000               2              0.294393   \n",
              "\n",
              "   time_spend_company  Work_accident  left  promotion_last_5years  sales  \\\n",
              "0               0.125              0     1                      0  sales   \n",
              "1               0.500              0     1                      0  sales   \n",
              "2               0.250              0     1                      0  sales   \n",
              "3               0.375              0     1                      0  sales   \n",
              "4               0.125              0     1                      0  sales   \n",
              "\n",
              "   salary average_hours_category  satisfaction_level_log  interaction_feature  \n",
              "0     low                    Low                0.276632             0.035631  \n",
              "1  medium                    Low                0.576737             0.387850  \n",
              "2  medium                    Low                0.021740             0.205607  \n",
              "3     low                    Low                0.526093             0.222547  \n",
              "4     low                    Low                0.268264             0.036799  "
            ]
          },
          "execution_count": 16,
          "metadata": {},
          "output_type": "execute_result"
        }
      ],
      "source": [
        "#step 5\n",
        "# Data transformation: Feature Interaction\n",
        "df[\"interaction_feature\"] = df[\"average_montly_hours\"] * df[\"time_spend_company\"]\n",
        "df.head()"
      ]
    },
    {
      "cell_type": "markdown",
      "id": "ca64a7b9",
      "metadata": {
        "id": "ca64a7b9"
      },
      "source": [
        "# Milestone three\n"
      ]
    },
    {
      "cell_type": "code",
      "execution_count": null,
      "id": "c3c6f0ce",
      "metadata": {
        "id": "c3c6f0ce"
      },
      "outputs": [],
      "source": [
        "from sklearn.model_selection import train_test_split\n",
        "from sklearn import preprocessing"
      ]
    },
    {
      "cell_type": "code",
      "execution_count": null,
      "id": "739ef789",
      "metadata": {
        "id": "739ef789",
        "outputId": "e6486c3e-af21-4ccc-a92a-31ae055ef54e"
      },
      "outputs": [
        {
          "name": "stdout",
          "output_type": "stream",
          "text": [
            "Training data shape: (11999, 12) (11999,)\n",
            "Testing data shape: (3000, 12) (3000,)\n"
          ]
        }
      ],
      "source": [
        "\n",
        "le = preprocessing.LabelEncoder()\n",
        "df = df.apply(le.fit_transform)\n",
        "\n",
        "# Specify the features (independent variables) and the target variable (dependent variable)\n",
        "features = df.drop(\"salary\", axis=1)  \n",
        "target = df[\"salary\"] \n",
        "\n",
        "\n",
        "# Split the data into training and testing sets\n",
        "X_train, X_test, y_train, y_test = train_test_split(features, target, test_size=0.2, random_state=42)\n",
        "\n",
        "# View the shapes of the split datasets\n",
        "print(\"Training data shape:\", X_train.shape, y_train.shape)\n",
        "print(\"Testing data shape:\", X_test.shape, y_test.shape)\n",
        "\n"
      ]
    },
    {
      "cell_type": "code",
      "execution_count": null,
      "id": "c7d70d94",
      "metadata": {
        "id": "c7d70d94"
      },
      "outputs": [],
      "source": [
        "from sklearn.linear_model import LogisticRegression\n",
        "from sklearn.ensemble import RandomForestClassifier\n",
        "from sklearn.tree import DecisionTreeClassifier\n",
        "from sklearn.naive_bayes import GaussianNB\n",
        "from sklearn.metrics import confusion_matrix, precision_score, accuracy_score, f1_score, recall_score, roc_curve, roc_auc_score\n"
      ]
    },
    {
      "cell_type": "code",
      "execution_count": null,
      "id": "5b1506bf",
      "metadata": {
        "id": "5b1506bf",
        "outputId": "7b4e8448-b3e7-457b-cb7d-560154951a89"
      },
      "outputs": [
        {
          "name": "stderr",
          "output_type": "stream",
          "text": [
            "C:\\Users\\HP PC\\anaconda3\\lib\\site-packages\\sklearn\\linear_model\\_logistic.py:763: ConvergenceWarning: lbfgs failed to converge (status=1):\n",
            "STOP: TOTAL NO. of ITERATIONS REACHED LIMIT.\n",
            "\n",
            "Increase the number of iterations (max_iter) or scale the data as shown in:\n",
            "    https://scikit-learn.org/stable/modules/preprocessing.html\n",
            "Please also refer to the documentation for alternative solver options:\n",
            "    https://scikit-learn.org/stable/modules/linear_model.html#logistic-regression\n",
            "  n_iter_i = _check_optimize_result(\n"
          ]
        }
      ],
      "source": [
        "# Logistic Regression\n",
        "logreg = LogisticRegression()\n",
        "logreg.fit(X_train, y_train)\n",
        "logreg_pred = logreg.predict(X_test)\n",
        "logreg_proba = logreg.predict_proba(X_test)[:, 1]\n"
      ]
    },
    {
      "cell_type": "code",
      "execution_count": null,
      "id": "81fd9560",
      "metadata": {
        "id": "81fd9560"
      },
      "outputs": [],
      "source": [
        "# Random Forest\n",
        "rf = RandomForestClassifier()\n",
        "rf.fit(X_train, y_train)\n",
        "rf_pred = rf.predict(X_test)\n",
        "rf_proba = rf.predict_proba(X_test)[:, 1]\n"
      ]
    },
    {
      "cell_type": "code",
      "execution_count": null,
      "id": "6b202ede",
      "metadata": {
        "id": "6b202ede"
      },
      "outputs": [],
      "source": [
        "# Decision Trees\n",
        "dt = DecisionTreeClassifier()\n",
        "dt.fit(X_train, y_train)\n",
        "dt_pred = dt.predict(X_test)\n",
        "dt_proba = dt.predict_proba(X_test)[:, 1]\n"
      ]
    },
    {
      "cell_type": "code",
      "execution_count": null,
      "id": "9973a884",
      "metadata": {
        "id": "9973a884"
      },
      "outputs": [],
      "source": [
        "# Naive Bayes\n",
        "nb = GaussianNB()\n",
        "nb.fit(X_train, y_train)\n",
        "nb_pred = nb.predict(X_test)\n",
        "nb_proba = nb.predict_proba(X_test)[:, 1]\n"
      ]
    },
    {
      "cell_type": "code",
      "execution_count": null,
      "id": "d9f376ba",
      "metadata": {
        "id": "d9f376ba",
        "outputId": "31481218-8f4f-4fa8-888a-63d9434ecfe4"
      },
      "outputs": [
        {
          "name": "stdout",
          "output_type": "stream",
          "text": [
            "Logistic Regression:\n",
            "Confusion Matrix:\n",
            "[[   0  144  109]\n",
            " [   0 1063  411]\n",
            " [   0  849  424]]\n",
            "Accuracy: 0.49566666666666664\n",
            "Precision: 0.44462119963068003\n",
            "Recall: 0.49566666666666664\n",
            "F1 Score: 0.45822052480553094\n",
            "\n",
            "Random Forest:\n",
            "Confusion Matrix:\n",
            "[[  83   89   81]\n",
            " [   6 1036  432]\n",
            " [  11  506  756]]\n",
            "Accuracy: 0.625\n",
            "Precision: 0.6348825522783307\n",
            "Recall: 0.625\n",
            "F1 Score: 0.619926740595221\n",
            "\n",
            "Decision Trees:\n",
            "Confusion Matrix:\n",
            "[[ 95  80  78]\n",
            " [ 88 947 439]\n",
            " [ 85 441 747]]\n",
            "Accuracy: 0.5963333333333334\n",
            "Precision: 0.5976240790473013\n",
            "Recall: 0.5963333333333334\n",
            "F1 Score: 0.5969487315855411\n",
            "\n",
            "Naive Bayes:\n",
            "Confusion Matrix:\n",
            "[[  18  210   25]\n",
            " [  27 1339  108]\n",
            " [  51 1103  119]]\n",
            "Accuracy: 0.492\n",
            "Precision: 0.4642672930283225\n",
            "Recall: 0.492\n",
            "F1 Score: 0.3938252114579391\n",
            "\n"
          ]
        },
        {
          "name": "stderr",
          "output_type": "stream",
          "text": [
            "C:\\Users\\HP PC\\anaconda3\\lib\\site-packages\\sklearn\\metrics\\_classification.py:1245: UndefinedMetricWarning: Precision is ill-defined and being set to 0.0 in labels with no predicted samples. Use `zero_division` parameter to control this behavior.\n",
            "  _warn_prf(average, modifier, msg_start, len(result))\n"
          ]
        }
      ],
      "source": [
        "# Confusion Matrix\n",
        "def print_evaluation_metrics(y_true, y_pred):\n",
        "    cm = confusion_matrix(y_true, y_pred)\n",
        "    accuracy = accuracy_score(y_true, y_pred)\n",
        "    precision = precision_score(y_true, y_pred, average='weighted')\n",
        "    recall = recall_score(y_true, y_pred, average='weighted')\n",
        "    f1 = f1_score(y_true, y_pred, average='weighted')\n",
        "    \n",
        "    print(\"Confusion Matrix:\")\n",
        "    print(cm)\n",
        "    print(\"Accuracy:\", accuracy)\n",
        "    print(\"Precision:\", precision)\n",
        "    print(\"Recall:\", recall)\n",
        "    print(\"F1 Score:\", f1)\n",
        "\n",
        "print(\"Logistic Regression:\")\n",
        "print_evaluation_metrics(y_test, logreg_pred)\n",
        "print()\n",
        "\n",
        "print(\"Random Forest:\")\n",
        "print_evaluation_metrics(y_test, rf_pred)\n",
        "print()\n",
        "\n",
        "print(\"Decision Trees:\")\n",
        "print_evaluation_metrics(y_test, dt_pred)\n",
        "print()\n",
        "\n",
        "print(\"Naive Bayes:\")\n",
        "print_evaluation_metrics(y_test, nb_pred)\n",
        "print()\n"
      ]
    },
    {
      "cell_type": "markdown",
      "id": "c850104a",
      "metadata": {
        "id": "c850104a"
      },
      "source": [
        "From the model development and evaluation, the following conclusions can be drawn:\n",
        "\n",
        "1. Logistic Regression: The accuracy of the logistic regression model was approximately 49.6%. Additionally, the precision, recall, and F1 score were relatively low.\n",
        "\n",
        "2. Random Forest: The random forest model outperformed logistic regression by approximately 62.5% in terms of accuracy. In comparison to logistic regression, the precision, recall, and F1 score were notably higher.\n",
        "\n",
        "3. Decision Trees: The accuracy of the decision tree model was approximately 59.6%. The performance was comparable to that of random forest, albeit with slightly inferior precision, recall, and F1 score values. However, it was still superior to logistic regression.\n",
        "\n",
        "4. The accuracy of the naive Bayes model was approximately 49.2 percent. Additionally, the precision, recall, and F1 score were relatively low.\n",
        "\n",
        "Overall, among the evaluated models, the random forest model demonstrated the highest levels of accuracy, precision, recall, and F1 score. Compared to other models, it demonstrated a superior ability to predict differences in salary categories.\n",
        "\n",
        "\n",
        "\n",
        "\n",
        "\n",
        "\n"
      ]
    }
  ],
  "metadata": {
    "kernelspec": {
      "display_name": "Python 3",
      "language": "python",
      "name": "python3"
    },
    "language_info": {
      "codemirror_mode": {
        "name": "ipython",
        "version": 3
      },
      "file_extension": ".py",
      "mimetype": "text/x-python",
      "name": "python",
      "nbconvert_exporter": "python",
      "pygments_lexer": "ipython3",
      "version": "3.8.8"
    },
    "colab": {
      "provenance": []
    }
  },
  "nbformat": 4,
  "nbformat_minor": 5
}