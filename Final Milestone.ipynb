{
 "cells": [
  {
   "cell_type": "code",
   "execution_count": 1,
   "id": "ba7d4ebe",
   "metadata": {},
   "outputs": [],
   "source": [
    "import pandas as pd\n"
   ]
  },
  {
   "cell_type": "code",
   "execution_count": 7,
   "id": "591a48e7",
   "metadata": {},
   "outputs": [],
   "source": [
    "df1=pd.read_csv(\"C:/Users/HP PC/Downloads/flat_file_dataset.csv\")\n",
    "df2=pd.read_csv(\"C:/Users/HP PC/Downloads/website_dataset.csv\")\n",
    "df3=pd.read_csv(\"C:/Users/HP PC/Downloads/api_dataset.csv\")"
   ]
  },
  {
   "cell_type": "code",
   "execution_count": 8,
   "id": "ef8edd40",
   "metadata": {},
   "outputs": [
    {
     "name": "stdout",
     "output_type": "stream",
     "text": [
      "<class 'pandas.core.frame.DataFrame'>\n",
      "RangeIndex: 117088 entries, 0 to 117087\n",
      "Data columns (total 25 columns):\n",
      " #   Column                             Non-Null Count   Dtype \n",
      "---  ------                             --------------   ----- \n",
      " 0   SN                                 117088 non-null  int64 \n",
      " 1   customer_id                        117088 non-null  int64 \n",
      " 2   satisfaction                       117088 non-null  object\n",
      " 3   gender                             117088 non-null  object\n",
      " 4   customer_type                      117088 non-null  object\n",
      " 5   age                                117088 non-null  int64 \n",
      " 6   type_of_travel                     117088 non-null  object\n",
      " 7   class                              117088 non-null  object\n",
      " 8   flight_distance                    117088 non-null  int64 \n",
      " 9   seat_comfort                       117088 non-null  int64 \n",
      " 10  departure/arrival_time_convenient  117088 non-null  int64 \n",
      " 11  food_and_drink                     117088 non-null  int64 \n",
      " 12  gate_location                      117088 non-null  int64 \n",
      " 13  inflight_ wifi_service             117088 non-null  int64 \n",
      " 14  inflight_entertainment             117088 non-null  int64 \n",
      " 15  online_support                     117088 non-null  int64 \n",
      " 16  ease_of_online_booking             117088 non-null  int64 \n",
      " 17  on_board_service                   117088 non-null  int64 \n",
      " 18  leg_room_service                   117088 non-null  int64 \n",
      " 19  baggage_handling                   117088 non-null  int64 \n",
      " 20  checkin_service                    117088 non-null  int64 \n",
      " 21  cleanliness                        117088 non-null  int64 \n",
      " 22  online_boarding                    117088 non-null  int64 \n",
      " 23  departure_delay_in_minutes         117088 non-null  int64 \n",
      " 24  arrival_delay_in_minutes           117088 non-null  int64 \n",
      "dtypes: int64(20), object(5)\n",
      "memory usage: 22.3+ MB\n",
      "<class 'pandas.core.frame.DataFrame'>\n",
      "RangeIndex: 300 entries, 0 to 299\n",
      "Data columns (total 6 columns):\n",
      " #   Column             Non-Null Count  Dtype \n",
      "---  ------             --------------  ----- \n",
      " 0   SN                 300 non-null    int64 \n",
      " 1   cancelled_flights  300 non-null    int64 \n",
      " 2   cancellation_rate  300 non-null    int64 \n",
      " 3   delayed_flights    300 non-null    int64 \n",
      " 4   delay_rate         300 non-null    int64 \n",
      " 5   airline_name       300 non-null    object\n",
      "dtypes: int64(5), object(1)\n",
      "memory usage: 14.2+ KB\n",
      "<class 'pandas.core.frame.DataFrame'>\n",
      "RangeIndex: 10 entries, 0 to 9\n",
      "Data columns (total 6 columns):\n",
      " #   Column           Non-Null Count  Dtype  \n",
      "---  ------           --------------  -----  \n",
      " 0   SN               10 non-null     int64  \n",
      " 1   City             10 non-null     object \n",
      " 2   Temperature (K)  10 non-null     float64\n",
      " 3   Humidity         10 non-null     int64  \n",
      " 4   Description      10 non-null     object \n",
      " 5   Temperature (F)  10 non-null     float64\n",
      "dtypes: float64(2), int64(2), object(2)\n",
      "memory usage: 608.0+ bytes\n"
     ]
    }
   ],
   "source": [
    "df1.info()\n",
    "df2.info()\n",
    "df3.info()"
   ]
  },
  {
   "cell_type": "code",
   "execution_count": 9,
   "id": "6e30cde6",
   "metadata": {},
   "outputs": [],
   "source": [
    "# Merge the datasets\n",
    "merged_df = df1.merge(df2, on='SN')"
   ]
  },
  {
   "cell_type": "code",
   "execution_count": 10,
   "id": "4c3ccf7c",
   "metadata": {},
   "outputs": [
    {
     "name": "stdout",
     "output_type": "stream",
     "text": [
      "   SN  customer_id satisfaction  gender   customer_type  age   type_of_travel  \\\n",
      "0   1       110278    satisfied    Male  Loyal Customer   47  Personal Travel   \n",
      "1   2       103199    satisfied  Female  Loyal Customer   15  Personal Travel   \n",
      "2   3        47462    satisfied  Female  Loyal Customer   60  Personal Travel   \n",
      "3   4       100744    satisfied    Male  Loyal Customer   30  Personal Travel   \n",
      "4   5        53786    satisfied  Female  Loyal Customer   56  Personal Travel   \n",
      "5   6         7243    satisfied    Male  Loyal Customer   22  Personal Travel   \n",
      "6   7        89429    satisfied  Female  Loyal Customer   58  Personal Travel   \n",
      "7   8       126744    satisfied  Female  Loyal Customer   34  Personal Travel   \n",
      "8   9        89717    satisfied    Male  Loyal Customer   62  Personal Travel   \n",
      "9  10       121486    satisfied    Male  Loyal Customer   35  Personal Travel   \n",
      "\n",
      "      class  flight_distance  seat_comfort  ...  cancelled_flights  \\\n",
      "0  Business             2464             0  ...                 90   \n",
      "1       Eco             2138             0  ...                 76   \n",
      "2       Eco              623             0  ...                 71   \n",
      "3       Eco             1894             0  ...                 70   \n",
      "4  Business               73             0  ...                 70   \n",
      "5       Eco             1556             0  ...                 68   \n",
      "6       Eco              104             0  ...                 66   \n",
      "7       Eco             3633             0  ...                 64   \n",
      "8       Eco             1695             0  ...                 62   \n",
      "9       Eco             1766             0  ...                 55   \n",
      "\n",
      "   cancellation_rate  delayed_flights  delay_rate              airline_name  \\\n",
      "0                 16              187          33                  Lion Air   \n",
      "1                 25               76          25               Wings Abadi   \n",
      "2                 61                2           1                Tropic Air   \n",
      "3                 23               70          23               Wings Abadi   \n",
      "4                  3              777          33             China Eastern   \n",
      "5                 23               73          25               Wings Abadi   \n",
      "6                  3              406          24                 Air China   \n",
      "7                 84               10          13  Japan Transocean Air Co.   \n",
      "8                  3              555          33                 Air China   \n",
      "9                  9               37           6                All Nippon   \n",
      "\n",
      "          City  Temperature (K)  Humidity      Description  Temperature (F)  \n",
      "0     NEBRASKA           298.84        44        CLEAR SKY           78.242  \n",
      "1      CHICAGO           295.37        83  OVERCAST CLOUDS           71.996  \n",
      "2     MICHIGAN           293.18        83  OVERCAST CLOUDS           68.054  \n",
      "3         UTAH           290.81        39  OVERCAST CLOUDS           63.788  \n",
      "4     NEW YORK           290.19        76        CLEAR SKY           62.672  \n",
      "5   WASHINGTON           289.97        33        CLEAR SKY           62.276  \n",
      "6      ARIZONA           289.92        31        CLEAR SKY           62.186  \n",
      "7  LOS ANGELES           289.39        77  OVERCAST CLOUDS           61.232  \n",
      "8       OREGON           287.24        34        CLEAR SKY           57.362  \n",
      "9       ALASKA           279.58        53  OVERCAST CLOUDS           43.574  \n",
      "\n",
      "[10 rows x 35 columns]\n"
     ]
    }
   ],
   "source": [
    "merged_df = merged_df.merge(df3, on='SN')\n",
    "\n",
    "# View the merged dataset\n",
    "print(merged_df)"
   ]
  },
  {
   "cell_type": "code",
   "execution_count": 15,
   "id": "4ec10c76",
   "metadata": {},
   "outputs": [
    {
     "data": {
      "image/png": "[encoded data removed]",
      "text/plain": [
       "<Figure size 432x288 with 1 Axes>"
      ]
     },
     "metadata": {
      "needs_background": "light"
     },
     "output_type": "display_data"
    }
   ],
   "source": [
    "import matplotlib.pyplot as plt\n",
    "# Visualization 1: Histogram - Age Distribution\n",
    "plt.hist(merged_df['age'])\n",
    "plt.xlabel('Age')\n",
    "plt.ylabel('Count')\n",
    "plt.title('Age Distribution')\n",
    "plt.show()"
   ]
  },
  {
   "cell_type": "markdown",
   "id": "b59ce8b4",
   "metadata": {},
   "source": [
    "The histogram of age is not normally distributed"
   ]
  },
  {
   "cell_type": "code",
   "execution_count": 18,
   "id": "3e5607c6",
   "metadata": {
    "scrolled": true
   },
   "outputs": [
    {
     "data": {
      "image/png": "[encoded data removed]",
      "text/plain": [
       "<Figure size 432x288 with 1 Axes>"
      ]
     },
     "metadata": {
      "needs_background": "light"
     },
     "output_type": "display_data"
    }
   ],
   "source": [
    "# Visualization 2: Scatter Plot - Cancelled flight vs. humidity\n",
    "plt.scatter(merged_df['cancelled_flights'], merged_df['Humidity'])\n",
    "plt.xlabel('Flight Distance')\n",
    "plt.ylabel('Humidity')\n",
    "plt.title('cancelled_flights vs. Humidity')\n",
    "plt.show()\n"
   ]
  },
  {
   "cell_type": "markdown",
   "id": "50146dfd",
   "metadata": {},
   "source": [
    "The distribution of cancelled flight and humidity is non linear."
   ]
  },
  {
   "cell_type": "code",
   "execution_count": 34,
   "id": "a507357e",
   "metadata": {},
   "outputs": [
    {
     "data": {
      "image/png": "[encoded data removed]",
      "text/plain": [
       "<Figure size 432x288 with 1 Axes>"
      ]
     },
     "metadata": {
      "needs_background": "light"
     },
     "output_type": "display_data"
    }
   ],
   "source": [
    "# Visualization 3: bar Plot - airline name vs. gender\n",
    "# Group the dataset by gender and airline name and calculate the count\n",
    "grouped_data = merged_df.groupby(['gender', 'airline_name']).size().unstack()\n",
    "\n",
    "# Get the list of genders and airline names\n",
    "genders = merged_df['gender'].unique()\n",
    "airline_names = merged_df['airline_name'].unique()\n",
    "\n",
    "# Set the width of each bar\n",
    "bar_width = 0.35\n",
    "\n",
    "# Set the x-axis positions for each group\n",
    "x = np.arange(len(airline_names))\n",
    "\n",
    "# Plot the grouped bar chart\n",
    "fig, ax = plt.subplots()\n",
    "for i, gender in enumerate(genders):\n",
    "    ax.bar(x - bar_width/2 + i*bar_width, grouped_data.loc[gender], bar_width, label=gender)\n",
    "\n",
    "# Set the x-axis tick positions and labels\n",
    "ax.set_xticks(x)\n",
    "ax.set_xticklabels(airline_names, rotation=45)\n",
    "\n",
    "# Set the labels and title\n",
    "ax.set_xlabel('Airline Name')\n",
    "ax.set_ylabel('Count')\n",
    "ax.set_title('Gender Distribution by Airline Name')\n",
    "\n",
    "# Add a legend\n",
    "ax.legend()\n",
    "\n",
    "# Display the plot\n",
    "plt.show()\n"
   ]
  },
  {
   "cell_type": "markdown",
   "id": "0a77e2ac",
   "metadata": {},
   "source": [
    "The distribution of females and males is equal across all airline except for Japan Transocean where Males are majority compared to famales."
   ]
  },
  {
   "cell_type": "code",
   "execution_count": 25,
   "id": "391cf327",
   "metadata": {},
   "outputs": [
    {
     "data": {
      "image/png": "[encoded data removed]",
      "text/plain": [
       "<Figure size 432x288 with 1 Axes>"
      ]
     },
     "metadata": {
      "needs_background": "light"
     },
     "output_type": "display_data"
    }
   ],
   "source": [
    "# Visualization 4: Scatter Plot - Age vs. cancellation Rate\n",
    "plt.scatter(merged_df['age'], merged_df['cancellation_rate'])\n",
    "plt.xlabel('age')\n",
    "plt.ylabel('cancellation_rate')\n",
    "plt.title('age vs. cancellation_rate')\n",
    "plt.show()"
   ]
  },
  {
   "cell_type": "markdown",
   "id": "fa49ad14",
   "metadata": {},
   "source": [
    "The distribution shows that there is a negative linear relationship between age and cancellation rate. Increase in age causes decrease in cancellation rate."
   ]
  },
  {
   "cell_type": "code",
   "execution_count": 31,
   "id": "2b6215f0",
   "metadata": {},
   "outputs": [
    {
     "data": {
      "image/png": "[encoded data removed]",
      "text/plain": [
       "<Figure size 432x288 with 1 Axes>"
      ]
     },
     "metadata": {
      "needs_background": "light"
     },
     "output_type": "display_data"
    }
   ],
   "source": [
    "# Visualization 5: bar Plot - Description vs. cancelled flights\n",
    "# Group the dataset by flight description and calculate the count of cancelled flights\n",
    "cancelled_flights_by_description = merged_df.groupby('Description')['cancelled_flights'].sum().reset_index()\n",
    "\n",
    "# Plot the description and cancelled flights\n",
    "plt.bar(cancelled_flights_by_description['Description'], cancelled_flights_by_description['cancelled_flights'])\n",
    "plt.xlabel('Flight Description')\n",
    "plt.ylabel('Cancelled Flights')\n",
    "plt.title('Number of Cancelled Flights by Description')\n",
    "plt.xticks(rotation=45)\n",
    "plt.show()\n"
   ]
  },
  {
   "cell_type": "markdown",
   "id": "566229eb",
   "metadata": {},
   "source": [
    "The distribution of cancelled flights is higher for clear sky compared to overcast clouds according to the plot."
   ]
  },
  {
   "cell_type": "markdown",
   "id": "85f713b5",
   "metadata": {},
   "source": [
    "## Summary\n",
    "I have learned how to load different types of datasets eg flat file, website data and API file. Further I have learned how to Join datasets based on common keys, creating a consolidated dataset.  Later on, creating visualizations: Using libraries like Matplotlib or Seaborn, creating visualizations to analyze and showcase the cleansed data. The example of visualizations, include bar plots, scatter plots, line plots, histograms, and box plots, which can provide insights into the data.\n",
    "\n",
    "Some of the ethical implications considered are:\n",
    "\n",
    "Data privacy and consent: When working with datasets, it's crucial to respect privacy and ensure compliance with applicable data protection regulations. Proper anonymization or aggregation techniques should be employed to prevent the identification of individuals or sensitive information.\n",
    "\n",
    "Bias and fairness: Data cleansing and transformation can inadvertently introduce or perpetuate bias in the datasets. It's important to be aware of bias, both in the original data and the cleaning process, to ensure fair and unbiased analyses and decision-making.\n",
    "\n",
    "Data accuracy and reliability: The quality of the data used for analysis greatly impacts the validity of the results. Data cleansing should be conducted carefully to minimize errors and inconsistencies, ensuring that the analysis is based on accurate and reliable information.\n",
    "\n",
    "Data ownership and attribution: When working with datasets from multiple sources, it is essential to respect data ownership and provide appropriate attribution. Adhering to licensing agreements, data usage terms, and giving credit to the original sources promotes transparency and integrity.\n",
    "\n",
    "Responsible data visualizations: While creating visualizations, it is important to present the data accurately, avoiding misinterpretations or misleading representations. Visualizations should be designed ethically and responsibly, taking care to choose appropriate scales, labels, and descriptions to provide a clear and unbiased understanding of the data.\n",
    "\n",
    "It's essential to consider ethical implications throughout the data cleansing, analysis, and visualization processes to ensure the responsible and respectful use of data.\n",
    "  \n",
    "  \n",
    "\n"
   ]
  }
 ],
 "metadata": {
  "kernelspec": {
   "display_name": "Python 3",
   "language": "python",
   "name": "python3"
  },
  "language_info": {
   "codemirror_mode": {
    "name": "ipython",
    "version": 3
   },
   "file_extension": ".py",
   "mimetype": "text/x-python",
   "name": "python",
   "nbconvert_exporter": "python",
   "pygments_lexer": "ipython3",
   "version": "3.8.8"
  }
 },
 "nbformat": 4,
 "nbformat_minor": 5
}
